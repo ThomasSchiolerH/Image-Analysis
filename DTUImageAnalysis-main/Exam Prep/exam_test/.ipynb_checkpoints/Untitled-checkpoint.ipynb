{
 "cells": [
  {
   "cell_type": "code",
   "execution_count": 81,
   "id": "b62e7926-e06a-42c6-9b9c-54a31b1012d8",
   "metadata": {},
   "outputs": [],
   "source": [
    "import numpy"
   ]
  },
  {
   "cell_type": "code",
   "execution_count": 34,
   "id": "484e4e11-7685-40a7-8adc-48997519f2bd",
   "metadata": {},
   "outputs": [],
   "source": [
    "array = [[177, 195, 181, 30, 192], \n",
    "         [81,203,192,127, 65], \n",
    "         [242,48,70,245,129], \n",
    "         [9,125,173,87,178], \n",
    "         [112,114,167,149,227]]\n",
    "array2 = [[140,190,73,19,60], \n",
    "          [130,212,14,100,145], \n",
    "          [150,20,80,135,120], \n",
    "          [157,140,33,199,100], \n",
    "          [121,234,45,210,86]]"
   ]
  },
  {
   "cell_type": "code",
   "execution_count": 74,
   "id": "48c5e32d-978e-41ce-b96a-28067fd93615",
   "metadata": {},
   "outputs": [],
   "source": [
    "def accuMin(row, i):\n",
    "    if i == 0:\n",
    "        return min(row[:i+2])\n",
    "    elif i == len(row)-1:\n",
    "        return min(row[i-1:])\n",
    "    else:\n",
    "        return min(row[i-1:i+2])\n",
    "\n",
    "\n",
    "def accumulatorIamge(img):\n",
    "    accu = []\n",
    "    accu.append(img[0])\n",
    "    for i in range(len(img)-1):\n",
    "        row = []\n",
    "        for j in range(len(accu[0])):\n",
    "            row.append(img[i+1][j]+accuMin(accu[i], j))\n",
    "        accu.append(row)\n",
    "    return accu"
   ]
  },
  {
   "cell_type": "code",
   "execution_count": 84,
   "id": "2916c767-95af-49de-aee7-21435c6cd5d0",
   "metadata": {},
   "outputs": [
    {
     "data": {
      "text/plain": [
       "[[177, 195, 181, 30, 192],\n",
       " [258, 380, 222, 157, 95],\n",
       " [500, 270, 227, 340, 224],\n",
       " [279, 352, 400, 311, 402],\n",
       " [391, 393, 478, 460, 538]]"
      ]
     },
     "execution_count": 84,
     "metadata": {},
     "output_type": "execute_result"
    }
   ],
   "source": [
    "nparray = numpy.array(array) # Can do numpy array, but no need.\n",
    "accumulatorIamge(array)"
   ]
  },
  {
   "cell_type": "code",
   "execution_count": 89,
   "id": "e67fdcdb-f6d4-42cd-8c74-837fb89e4579",
   "metadata": {},
   "outputs": [],
   "source": [
    "tarray = numpy.array([[208,208,208, 202, 202, 202], [231,231,231,231, 193,193],[193,193,193, 167, 167,167],[167, 36, 36,36,36,36],[36,40,40, 217, 217,217],[25, 25,25,25,25,25]])"
   ]
  },
  {
   "cell_type": "code",
   "execution_count": 90,
   "id": "3bad0a56-f6a3-4cbf-8184-52361c3fa7bd",
   "metadata": {},
   "outputs": [],
   "source": [
    "threadsholded = tarray > 230"
   ]
  },
  {
   "cell_type": "code",
   "execution_count": 91,
   "id": "7ba68086-dba6-4a1d-97b5-4d041cbe1ee2",
   "metadata": {},
   "outputs": [
    {
     "data": {
      "text/plain": [
       "array([[False, False, False, False, False, False],\n",
       "       [ True,  True,  True,  True, False, False],\n",
       "       [False, False, False, False, False, False],\n",
       "       [False, False, False, False, False, False],\n",
       "       [False, False, False, False, False, False],\n",
       "       [False, False, False, False, False, False]])"
      ]
     },
     "execution_count": 91,
     "metadata": {},
     "output_type": "execute_result"
    }
   ],
   "source": [
    "threadsholded"
   ]
  },
  {
   "cell_type": "code",
   "execution_count": null,
   "id": "472bdadf-628a-43d8-813a-66f97258f970",
   "metadata": {},
   "outputs": [],
   "source": []
  }
 ],
 "metadata": {
  "kernelspec": {
   "display_name": "Python 3 (ipykernel)",
   "language": "python",
   "name": "python3"
  },
  "language_info": {
   "codemirror_mode": {
    "name": "ipython",
    "version": 3
   },
   "file_extension": ".py",
   "mimetype": "text/x-python",
   "name": "python",
   "nbconvert_exporter": "python",
   "pygments_lexer": "ipython3",
   "version": "3.10.6"
  }
 },
 "nbformat": 4,
 "nbformat_minor": 5
}
