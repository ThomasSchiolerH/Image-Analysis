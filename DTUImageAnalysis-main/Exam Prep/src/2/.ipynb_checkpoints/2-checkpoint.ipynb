{
 "cells": [
  {
   "cell_type": "code",
   "execution_count": 2,
   "id": "2ca8e715-cfe9-4167-a75d-06a122ea54b0",
   "metadata": {},
   "outputs": [],
   "source": [
    "import math"
   ]
  },
  {
   "cell_type": "code",
   "execution_count": 17,
   "id": "e2bc6b0c-0f3f-4c6a-aa49-193b84ccfc52",
   "metadata": {},
   "outputs": [],
   "source": [
    "radians = math.atan2(3,10)"
   ]
  },
  {
   "cell_type": "code",
   "execution_count": 65,
   "id": "ca77c135-5e6b-42e1-89fd-e4b3815223c5",
   "metadata": {},
   "outputs": [],
   "source": [
    "degrees = radians * (180/ math.pi)"
   ]
  },
  {
   "cell_type": "code",
   "execution_count": 21,
   "id": "02d0e640-641e-4bde-85b6-6e62fd7c5777",
   "metadata": {},
   "outputs": [
    {
     "name": "stdout",
     "output_type": "stream",
     "text": [
      "16.69924423399362\n"
     ]
    }
   ],
   "source": [
    "print(degrees)"
   ]
  },
  {
   "cell_type": "code",
   "execution_count": 35,
   "id": "e0bf5bae-ac83-43dd-9046-24693805fa3b",
   "metadata": {},
   "outputs": [],
   "source": [
    "def camera_b_distance(f,g):\n",
    "    return -((f*g)/(f-g))"
   ]
  },
  {
   "cell_type": "code",
   "execution_count": 38,
   "id": "64cfc96d-c2f1-4dab-9621-05cc3f7247c4",
   "metadata": {},
   "outputs": [
    {
     "name": "stdout",
     "output_type": "stream",
     "text": [
      "0.01764705882352941\n",
      "0.015228426395939085\n",
      "0.015045135406218654\n",
      "0.015015015015015015\n",
      "0.015001500150015\n"
     ]
    }
   ],
   "source": [
    "print(camera_b_distance(0.015, 0.1))\n",
    "print(camera_b_distance(0.015, 1))\n",
    "print(camera_b_distance(0.015, 5))\n",
    "print(camera_b_distance(0.015, 15))\n",
    "print(camera_b_distance(0.015, 150))"
   ]
  },
  {
   "cell_type": "code",
   "execution_count": 41,
   "id": "ad18d6dc-0b03-411a-9ad0-16fe7d21f748",
   "metadata": {},
   "outputs": [],
   "source": [
    "intersection = camera_b_distance(0.005, 5)"
   ]
  },
  {
   "cell_type": "code",
   "execution_count": 52,
   "id": "4ddbbfa0-a5d1-41f6-8c72-97117830aa2b",
   "metadata": {},
   "outputs": [
    {
     "name": "stdout",
     "output_type": "stream",
     "text": [
      "0.005005005005005005 m\n"
     ]
    }
   ],
   "source": [
    "print(intersection,\"m\")"
   ]
  },
  {
   "cell_type": "code",
   "execution_count": 45,
   "id": "37a4be8c-2ded-4a49-8724-aa923dbc3c7d",
   "metadata": {},
   "outputs": [],
   "source": [
    "def object_height_on_ccd(g,G,b):\n",
    "    return (G*b)/g"
   ]
  },
  {
   "cell_type": "code",
   "execution_count": 47,
   "id": "e8e7df57-5ed5-48b2-aea0-c9152c62e279",
   "metadata": {},
   "outputs": [],
   "source": [
    "height_on_ccd = object_height_on_ccd(5,1.8,intersection)"
   ]
  },
  {
   "cell_type": "code",
   "execution_count": 53,
   "id": "80a9421c-9022-469c-b0cf-a60a5cb477c0",
   "metadata": {},
   "outputs": [
    {
     "name": "stdout",
     "output_type": "stream",
     "text": [
      "0.0018018018018018018 m\n"
     ]
    }
   ],
   "source": [
    "print(height_on_ccd,\"m\")"
   ]
  },
  {
   "cell_type": "code",
   "execution_count": 59,
   "id": "8c47f375-94ed-445d-a0d4-18fd24af126c",
   "metadata": {},
   "outputs": [
    {
     "name": "stdout",
     "output_type": "stream",
     "text": [
      "Pixel size:  0.01 mm X  0.01  mm \n"
     ]
    }
   ],
   "source": [
    "print(\"Pixel size: \",6.4/640,\"mm X \",4.8/480,\" mm \")"
   ]
  },
  {
   "cell_type": "code",
   "execution_count": 63,
   "id": "32942246-c884-4f99-af2e-87e0f587b5c9",
   "metadata": {},
   "outputs": [
    {
     "name": "stdout",
     "output_type": "stream",
     "text": [
      "Thomas height in pixels:  180.0\n"
     ]
    }
   ],
   "source": [
    "print(\"Thomas height in pixels: \",1.8/0.01)"
   ]
  },
  {
   "cell_type": "code",
   "execution_count": 80,
   "id": "a9a2ba44-7308-46a2-b7a2-59bdfd60a7fa",
   "metadata": {},
   "outputs": [
    {
     "name": "stdout",
     "output_type": "stream",
     "text": [
      "Horizontal FOV:  156.4405200086286\n"
     ]
    }
   ],
   "source": [
    "print(\"Horizontal FOV: \",(math.atan2(4.8/2,intersection*100) * (180/ math.pi) * 2))"
   ]
  },
  {
   "cell_type": "code",
   "execution_count": 81,
   "id": "7b53ce95-99f0-49e0-961e-b28eaf978015",
   "metadata": {},
   "outputs": [
    {
     "name": "stdout",
     "output_type": "stream",
     "text": [
      "Vertical FOV:  162.22118640393202\n"
     ]
    }
   ],
   "source": [
    "print(\"Vertical FOV: \",(math.atan2(6.4/2,intersection*100) * (180/ math.pi) * 2))"
   ]
  },
  {
   "cell_type": "code",
   "execution_count": null,
   "id": "20e65738-9f93-4939-a58f-6d4e45278e65",
   "metadata": {},
   "outputs": [],
   "source": []
  }
 ],
 "metadata": {
  "kernelspec": {
   "display_name": "Python 3 (ipykernel)",
   "language": "python",
   "name": "python3"
  },
  "language_info": {
   "codemirror_mode": {
    "name": "ipython",
    "version": 3
   },
   "file_extension": ".py",
   "mimetype": "text/x-python",
   "name": "python",
   "nbconvert_exporter": "python",
   "pygments_lexer": "ipython3",
   "version": "3.9.13"
  }
 },
 "nbformat": 4,
 "nbformat_minor": 5
}
